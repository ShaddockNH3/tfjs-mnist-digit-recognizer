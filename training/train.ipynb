{
 "cells": [
  {
   "cell_type": "markdown",
   "id": "64576ed1",
   "metadata": {},
   "source": [
    "使用colab"
   ]
  },
  {
   "cell_type": "code",
   "execution_count": null,
   "id": "842e5f4a",
   "metadata": {
    "vscode": {
     "languageId": "plaintext"
    }
   },
   "outputs": [],
   "source": [
    "! pip install tensorflow\n",
    "! pip install tensorflowjs\n",
    "# 运行完毕重启"
   ]
  },
  {
   "cell_type": "code",
   "execution_count": null,
   "id": "c05186e1",
   "metadata": {
    "vscode": {
     "languageId": "plaintext"
    }
   },
   "outputs": [],
   "source": [
    "import tensorflow as tf\n",
    "from tensorflow import keras\n",
    "import tensorflowjs as tfjs\n",
    "import os\n",
    "print(\"TensorFlow Version:\", tf.__version__)\n",
    "print(\"Keras Version:\", keras.__version__)"
   ]
  },
  {
   "cell_type": "code",
   "execution_count": null,
   "id": "50acc474",
   "metadata": {
    "vscode": {
     "languageId": "plaintext"
    }
   },
   "outputs": [],
   "source": [
    "# 数字预处理\n",
    "(x_train, y_train), (x_test, y_test) = keras.datasets.mnist.load_data()\n",
    "x_train = x_train.reshape(x_train.shape[0], 28, 28, 1).astype('float32') / 255\n",
    "x_test = x_test.reshape(x_test.shape[0], 28, 28, 1).astype('float32') / 255\n",
    "\n",
    "# 模型构建\n",
    "model = keras.Sequential([\n",
    "    keras.layers.Conv2D(32, kernel_size=(3, 3), activation=\"relu\", input_shape=(28, 28, 1)),\n",
    "    keras.layers.MaxPooling2D(pool_size=(2, 2)),\n",
    "    keras.layers.Conv2D(64, kernel_size=(3, 3), activation=\"relu\"),\n",
    "    keras.layers.MaxPooling2D(pool_size=(2, 2)),\n",
    "    keras.layers.Flatten(),\n",
    "    keras.layers.Dropout(0.5),\n",
    "    keras.layers.Dense(10, activation=\"softmax\")\n",
    "])\n",
    "\n",
    "# 编译和训练\n",
    "model.compile(optimizer='adam',\n",
    "              loss='sparse_categorical_crossentropy',\n",
    "              metrics=['accuracy'])\n",
    "model.fit(x_train, y_train, epochs=15, validation_data=(x_test, y_test))"
   ]
  },
  {
   "cell_type": "code",
   "execution_count": null,
   "id": "33364b36",
   "metadata": {
    "vscode": {
     "languageId": "plaintext"
    }
   },
   "outputs": [],
   "source": [
    "# 把模型导出为TensorFlow标准的 SavedModel 格式\n",
    "saved_model_path = 'saved_model/my_model'\n",
    "model.export(saved_model_path)\n",
    "\n",
    "# 再用转换器，把这个 SavedModel 格式，转换成前端专用的图模型\n",
    "tfjs_model_path = 'tfjs_graph_model_final'\n",
    "os.makedirs(tfjs_model_path, exist_ok=True)\n",
    "tfjs.converters.convert_tf_saved_model(saved_model_path, tfjs_model_path)\n",
    "\n",
    "# 打包\n",
    "!zip -r tfjs_graph_model_final.zip {tfjs_model_path}\n",
    "\n",
    "print(\"\\n\\n🎉 下载 'tfjs_graph_model_final.zip' 替换model里的文件 🎉\")"
   ]
  }
 ],
 "metadata": {
  "language_info": {
   "name": "python"
  }
 },
 "nbformat": 4,
 "nbformat_minor": 5
}
